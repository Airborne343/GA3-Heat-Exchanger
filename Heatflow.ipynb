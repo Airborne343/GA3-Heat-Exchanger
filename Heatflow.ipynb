{
 "cells": [
  {
   "cell_type": "code",
   "execution_count": 3,
   "metadata": {},
   "outputs": [
    {
     "name": "stdout",
     "output_type": "stream",
     "text": [
      "0.4596396915360527 0.7093202238578123 [0.19509748259813728, 0.1674282669210725, 53.302869323157104, 24.339742439231177, 12864.078120970871]\n"
     ]
    }
   ],
   "source": [
    "from hydraulicloss import P_drop_hot, P_drop_cold, iteration\n",
    "from HXobj import HeatExchanger\n",
    "from GA3_ENTU_Method import heat_transfer_coefficient, effective_NTU\n",
    "\n",
    "\n",
    "Hx = HeatExchanger(length = 0.35, tube_count = 13, baffle_count = 9, type = \"triangle\", passes = 1, N_shell = 1)\n",
    "\n",
    "hotmass = iteration(P_drop_hot, Hx)\n",
    "coldmass = iteration(P_drop_cold, Hx)\n",
    "\n",
    "H = heat_transfer_coefficient(hotmass, coldmass, Hx)\n",
    "\n",
    "heattransfer = effective_NTU(Hx, H, hotmass, coldmass)\n",
    "\n",
    "print(hotmass, coldmass, heattransfer)\n"
   ]
  }
 ],
 "metadata": {
  "kernelspec": {
   "display_name": "base",
   "language": "python",
   "name": "python3"
  },
  "language_info": {
   "codemirror_mode": {
    "name": "ipython",
    "version": 3
   },
   "file_extension": ".py",
   "mimetype": "text/x-python",
   "name": "python",
   "nbconvert_exporter": "python",
   "pygments_lexer": "ipython3",
   "version": "3.9.13"
  }
 },
 "nbformat": 4,
 "nbformat_minor": 2
}
